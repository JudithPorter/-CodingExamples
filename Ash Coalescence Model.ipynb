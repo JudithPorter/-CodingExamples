{
 "cells": [
  {
   "cell_type": "markdown",
   "metadata": {},
   "source": [
    "# Ash Coalescence"
   ]
  },
  {
   "cell_type": "markdown",
   "metadata": {},
   "source": [
    "# Introduction "
   ]
  },
  {
   "cell_type": "markdown",
   "metadata": {
    "deletable": false,
    "nbgrader": {
     "cell_type": "markdown",
     "checksum": "7155c7a5dd079623e0f510c094cdfa63",
     "grade": true,
     "grade_id": "cell-9631826ebbb18084",
     "locked": false,
     "points": 5,
     "schema_version": 3,
     "solution": true
    }
   },
   "source": [
    "Volcanic eruptions can throw lots of ash into the stratosphere containing sulfates. These have the effect of scattering incoming light from the sun in all directions. Less light reaches the surface of the Earth therefore causing a cooling effect. The Particles move around in small random movements and will combine if they get close and fall out of the stratosphere due to their extra weight. This causes the number of particles to decrease with time. To model this effect an arbritary box in the stratosphere is tracked along with the particles populated within it. The boundaries are confined so the only way the particles can leave the model is by coellesing. The model is analysed to determine the rate of decay of the particles."
   ]
  },
  {
   "cell_type": "markdown",
   "metadata": {},
   "source": [
    "# Plan"
   ]
  },
  {
   "cell_type": "markdown",
   "metadata": {
    "deletable": false,
    "nbgrader": {
     "cell_type": "markdown",
     "checksum": "664aec70f8006bb909325c99da5d95ed",
     "grade": true,
     "grade_id": "cell-768173669bbc2807",
     "locked": false,
     "points": 25,
     "schema_version": 3,
     "solution": true
    }
   },
   "source": [
    "### Initialise model\n",
    "- array of len(n)\n",
    "- Box of size L\n",
    "- random initial position spread uniformly\n",
    "\n",
    "### Loop overtime\n",
    "- update the positions in small increments \n",
    "- confine particles to box of lenth L so they come in the other side\n",
    "- set a mask so the particles are deleted when they are under a distance d apart\n",
    "- update the array with the new position of the undeleted particles\n",
    "- record the new value of particles left in the simulation\n",
    "- stop the simulation when n < a \n",
    "                              \n",
    "### Plot\n",
    "- Number of particles against time\n",
    "\n",
    "### Analyse\n",
    "- Create a list of the number of particles after each movement\n",
    "- plot the values agaisnt the index"
   ]
  },
  {
   "cell_type": "markdown",
   "metadata": {},
   "source": [
    "--- \n",
    "\n",
    "# Development of Model"
   ]
  },
  {
   "cell_type": "markdown",
   "metadata": {
    "deletable": false,
    "nbgrader": {
     "cell_type": "markdown",
     "checksum": "03238e461b516342a922f5b2dd0bb50f",
     "grade": true,
     "grade_id": "cell-b9015390c079aa00",
     "locked": false,
     "points": 30,
     "schema_version": 3,
     "solution": true
    }
   },
   "source": [
    "The model is broken up into segments therefore is not looped. This code will provide one run of the simulation, for more runs the working model section is used."
   ]
  },
  {
   "cell_type": "markdown",
   "metadata": {},
   "source": [
    "## Step 1: Animate and confine randomly moving particles"
   ]
  },
  {
   "cell_type": "markdown",
   "metadata": {},
   "source": [
    "Load in relevent packages"
   ]
  },
  {
   "cell_type": "code",
   "execution_count": 1,
   "metadata": {},
   "outputs": [],
   "source": [
    "import numpy as np\n",
    "import matplotlib.pyplot as plt\n",
    "import time\n",
    "from IPython import display\n",
    "import pylab as pl"
   ]
  },
  {
   "cell_type": "markdown",
   "metadata": {},
   "source": [
    "Set starting conditions including the number of particles (N), the position of each N (X), and the length and width of the box in the atmosphere (L)."
   ]
  },
  {
   "cell_type": "code",
   "execution_count": 2,
   "metadata": {},
   "outputs": [],
   "source": [
    "N = 200    # Initial number of particles\n",
    "X  = np.random.random((N,2)) #randomly generate a of starting position for each N\n",
    "L=1 #boundary of sample box in the atmosphere"
   ]
  },
  {
   "cell_type": "markdown",
   "metadata": {},
   "source": [
    "Define a function to add a small random movement to the position (X) of each N. This can be in any direction."
   ]
  },
  {
   "cell_type": "code",
   "execution_count": 3,
   "metadata": {},
   "outputs": [],
   "source": [
    "def movement(X):\n",
    "    dX=np.random.normal(loc=0.0, scale=0.01, size=(len(X),2)) #generate a small random brownian movement for every element in the array X\n",
    "    X=X+dX #add small random distances to the position of each particle\n",
    "    return X\n",
    "X=movement(X)"
   ]
  },
  {
   "cell_type": "markdown",
   "metadata": {},
   "source": [
    "To prevent losing particles via the edges of the box, set the boundary conditions so going past L will tranport the particles back to 0."
   ]
  },
  {
   "cell_type": "code",
   "execution_count": 4,
   "metadata": {},
   "outputs": [],
   "source": [
    "#set the boundary conditions such that when a particle exceeds the plot at one side it is transported to the other. \n",
    "def boundary(X):\n",
    "    X[X>L]-=L #boolean mask to replace particles outwith the boundary to the equivalent point on the other side\n",
    "    X[X<0]+=L\n",
    "    return X\n",
    "X=boundary(X)"
   ]
  },
  {
   "cell_type": "markdown",
   "metadata": {},
   "source": [
    "## Step 2: Find where the particles are close enough to combine and remove them from the array"
   ]
  },
  {
   "cell_type": "markdown",
   "metadata": {},
   "source": [
    "Define a function for finding the minimum distance between all points."
   ]
  },
  {
   "cell_type": "code",
   "execution_count": 5,
   "metadata": {},
   "outputs": [],
   "source": [
    "def nearestNeighbour_usingUfuncs(X):\n",
    "    nParticles = len(X)\n",
    "    diff = X.reshape(nParticles,1,2)-X #adapt the shape for the distance between the x value of position (col1) and the y value of position (col2) in 2 dimensions (col3)\n",
    "    D = (diff ** 2).sum(2) #sum the square of the distances\n",
    "    j = np.arange(nParticles)\n",
    "    D[j,j] = np.inf #particles are 0 distance from themselves, set diagonal to infinity to eradicate these\n",
    "    \n",
    "    nearestNeighbourNumber = np.argmin(D, 1) ## find minimum distances between all points in X\n",
    "    nearestNeighbourDistance = D[ j, nearestNeighbourNumber]\n",
    "    \n",
    "    return nearestNeighbourNumber, nearestNeighbourDistance"
   ]
  },
  {
   "cell_type": "code",
   "execution_count": 6,
   "metadata": {},
   "outputs": [],
   "source": [
    "index,distance=nearestNeighbour_usingUfuncs(X) #use the defined function"
   ]
  },
  {
   "cell_type": "markdown",
   "metadata": {},
   "source": [
    "Apply a boolean mask to update the array X with only the values with a sufficiently large distance."
   ]
  },
  {
   "cell_type": "code",
   "execution_count": 7,
   "metadata": {},
   "outputs": [],
   "source": [
    "X=X[distance>0.001] #keep all large distances and remove the close particles, save back into X to restart the loop"
   ]
  },
  {
   "cell_type": "markdown",
   "metadata": {},
   "source": [
    "## Step 3: Create a list of the number of particles in each run of the loop"
   ]
  },
  {
   "cell_type": "code",
   "execution_count": 8,
   "metadata": {},
   "outputs": [],
   "source": [
    "particles=[N]\n",
    "particles.append(len(X)) #update the list of particle numbers after each iteration of the loop "
   ]
  },
  {
   "cell_type": "markdown",
   "metadata": {},
   "source": [
    "## Step 4: Plot the simulation"
   ]
  },
  {
   "cell_type": "markdown",
   "metadata": {},
   "source": [
    "Plot each iteration of the loop for a visual representaion of the sulfates in the atmosphere."
   ]
  },
  {
   "cell_type": "code",
   "execution_count": 9,
   "metadata": {},
   "outputs": [
    {
     "data": {
      "image/png": "[encoded data removed]",
      "text/plain": [
       "<Figure size 432x288 with 1 Axes>"
      ]
     },
     "metadata": {
      "needs_background": "light"
     },
     "output_type": "display_data"
    }
   ],
   "source": [
    "pl.clf()\n",
    "pl.plot(X[:,0], X[:,1], \".\") #plot x and y position for every element \n",
    "pl.xlim(0,L) #plot boundaries\n",
    "pl.ylim(0,L)\n",
    "plt.xlabel(\"X Position\") #axis labels\n",
    "plt.ylabel(\"Y Position\")\n",
    "    \n",
    "display.display(pl.gcf()) \n",
    "display.clear_output(wait=True) \n",
    "time.sleep(0.2) #pause between each iteration"
   ]
  },
  {
   "cell_type": "markdown",
   "metadata": {},
   "source": [
    "---\n",
    "\n",
    "# Working Model"
   ]
  },
  {
   "cell_type": "code",
   "execution_count": 15,
   "metadata": {
    "deletable": false,
    "nbgrader": {
     "cell_type": "markdown",
     "checksum": "f7d44737f5e00ad5f15fb15e80a049cf",
     "grade": true,
     "grade_id": "cell-4e3c942bc8238c29",
     "locked": false,
     "points": 20,
     "schema_version": 3,
     "solution": true
    }
   },
   "outputs": [
    {
     "data": {
      "image/png": "[encoded data removed]",
      "text/plain": [
       "<Figure size 432x288 with 1 Axes>"
      ]
     },
     "metadata": {
      "needs_background": "light"
     },
     "output_type": "display_data"
    }
   ],
   "source": [
    "#import packages\n",
    "import numpy as np\n",
    "import matplotlib.pyplot as plt\n",
    "import time\n",
    "from IPython import display\n",
    "import pylab as pl\n",
    "#set starting conditions\n",
    "N = 400 \n",
    "X  = np.random.random((N,2))\n",
    "L=1\n",
    "particles=[N]\n",
    "#define functions\n",
    "def movement(X):\n",
    "        dX=np.random.normal(loc=0.0, scale=0.01, size=(len(X),2))\n",
    "        X=X+dX \n",
    "        return X\n",
    "\n",
    "def boundary(X):\n",
    "    X[X>L]-=L \n",
    "    X[X<0]+=L\n",
    "    return X\n",
    "\n",
    "def nearestNeighbour_usingUfuncs(X):\n",
    "    nParticles = len(X)\n",
    "    diff = X.reshape(nParticles,1,2)-X\n",
    "    D = (diff ** 2).sum(2)\n",
    "    i = np.arange(nParticles)\n",
    "    D[i,i] = np.inf\n",
    "    \n",
    "    nearestNeighbourNumber = np.argmin(D, 1)\n",
    "    nearestNeighbourDistance = D[ i, nearestNeighbourNumber]\n",
    "    \n",
    "    return nearestNeighbourNumber, nearestNeighbourDistance\n",
    "\n",
    "#intitiate while loop\n",
    "while len(X) >(N/100):\n",
    "    #add a small random distance to position\n",
    "    X=movement(X)\n",
    "    \n",
    "    #set boundary conditions\n",
    "    X=boundary(X)\n",
    "\n",
    "    #Find nearest neighbour\n",
    "    index,distance=nearestNeighbour_usingUfuncs(X)\n",
    "    \n",
    "    #update array \n",
    "    X=X[distance>0.001]\n",
    "    \n",
    "    #record number of particles and append to particles list\n",
    "    particles.append(len(X))\n",
    "   \n",
    "    #plot the box where the particles are observed\n",
    "    pl.clf()\n",
    "    pl.plot(X[:,0], X[:,1], \".\")\n",
    "    pl.xlim(0,L)\n",
    "    pl.ylim(0,L)\n",
    "    plt.xlabel(\"X Position\")\n",
    "    plt.ylabel(\"Y Position\")\n",
    "    \n",
    "    display.display(pl.gcf())\n",
    "    display.clear_output(wait=True)\n",
    "    time.sleep(0.2) \n",
    "    \n",
    "    #print(particles)"
   ]
  },
  {
   "cell_type": "markdown",
   "metadata": {},
   "source": [
    "# Analysis "
   ]
  },
  {
   "cell_type": "markdown",
   "metadata": {
    "deletable": false,
    "nbgrader": {
     "cell_type": "markdown",
     "checksum": "376a541ab0c7c6f4dbc6ead9c4a6e987",
     "grade": true,
     "grade_id": "cell-4c17421c01bbf1ab",
     "locked": false,
     "points": 5,
     "schema_version": 3,
     "solution": true
    }
   },
   "source": [
    "In the above loop the number of particles after each run is recorded and added to the list particles. The number of particles is plotted against the index for a visual representation of the decay of particles in the atmosphere. "
   ]
  },
  {
   "cell_type": "code",
   "execution_count": 16,
   "metadata": {},
   "outputs": [
    {
     "data": {
      "text/plain": [
       "<matplotlib.legend.Legend at 0x7fb768993370>"
      ]
     },
     "execution_count": 16,
     "metadata": {},
     "output_type": "execute_result"
    },
    {
     "data": {
      "image/png": "[encoded data removed]",
      "text/plain": [
       "<Figure size 432x288 with 1 Axes>"
      ]
     },
     "metadata": {
      "needs_background": "light"
     },
     "output_type": "display_data"
    }
   ],
   "source": [
    "plt.plot(particles,label=(\"Model Decay\")) # plot the array of the number of particles against iteration number\n",
    "plt.xlabel(\"Number of Runs\")\n",
    "plt.ylabel(\"Number of Particles\")\n",
    "\n",
    "plt.legend() #create a legend"
   ]
  },
  {
   "cell_type": "markdown",
   "metadata": {},
   "source": [
    "# Limitations of the model "
   ]
  },
  {
   "cell_type": "markdown",
   "metadata": {
    "deletable": false,
    "nbgrader": {
     "cell_type": "markdown",
     "checksum": "6919a12a610fb3a34734c3b49bf0ef57",
     "grade": true,
     "grade_id": "cell-5095c7ef203c6eb0",
     "locked": false,
     "points": 5,
     "schema_version": 3,
     "solution": true
    }
   },
   "source": [
    "The particles move in incremental steps so there is a possibibility that the particles are passing by each other in between movements. This could be improved by decreasing the scale of the movements but this would require many more loops before 1% of the starting population is reached. \n",
    "\n",
    "The value of N chosen must be small enough that the generated particles are not immediately removed, as the value of N tends to infinity the number of loops needed to reach 1% of the initial value becomes zero. "
   ]
  },
  {
   "cell_type": "markdown",
   "metadata": {
    "deletable": false,
    "nbgrader": {
     "cell_type": "markdown",
     "checksum": "59fc7447539a3bde31c16a806845db70",
     "grade": true,
     "grade_id": "cell-299bda87ed29cdf9",
     "locked": false,
     "points": 10,
     "schema_version": 3,
     "solution": true
    }
   },
   "source": [
    "# Experimentation with looped model"
   ]
  },
  {
   "cell_type": "code",
   "execution_count": 17,
   "metadata": {},
   "outputs": [],
   "source": [
    "def nearestNeighbour_withLoops(X):\n",
    "    nParticles = len(X)\n",
    "    \n",
    "    nearestNeighbourDistance = np.inf * np.ones(nParticles) #create an array of ones the length of X and convert them to integers\n",
    "    nearestNeighbourNumber = np.empty(nParticles, dtype=int) # create an empty array the lenth of X\n",
    "    \n",
    "    for i in range(nParticles):\n",
    "        for j in range(i+1,nParticles):\n",
    "            dist = (X[i,0]-X[j,0])**2+(X[i,1]-X[j,1])**2 #the formula to calculate the distance to another particle for the x and y positions\n",
    "            if (dist<nearestNeighbourDistance[i]): #boolean mask to filter out small distances and place them in an array in he x value of position\n",
    "                nearestNeighbourDistance[i] = dist\n",
    "                nearestNeighbourNumber[i] = j \n",
    "            if(dist<nearestNeighbourDistance[j]): #same mask but for y values of position\n",
    "                nearestNeighbourDistance[j] = dist\n",
    "                nearestNeighbourNumber[j] = i\n",
    "                \n",
    "    return nearestNeighbourNumber, nearestNeighbourDistance\n",
    "  \n",
    "def nearestNeighbour_usingUfuncs(X):\n",
    "    nParticles = len(X)\n",
    "    diff = X.reshape(nParticles,1,2)-X\n",
    "    D = (diff ** 2).sum(2)\n",
    "    j = np.arange(nParticles)\n",
    "    D[j,j] = np.inf\n",
    "    \n",
    "    nearestNeighbourNumber = np.argmin(D, 1)\n",
    "    nearestNeighbourDistance = D[ j, nearestNeighbourNumber]\n",
    "    \n",
    "    return nearestNeighbourNumber, nearestNeighbourDistance"
   ]
  },
  {
   "cell_type": "code",
   "execution_count": 18,
   "metadata": {},
   "outputs": [
    {
     "name": "stdout",
     "output_type": "stream",
     "text": [
      "n =  [  10  100 1000]\n",
      "Iteration  0    Sample size, n =  10\n",
      "15.4 µs ± 235 ns per loop (mean ± std. dev. of 7 runs, 100,000 loops each)\n",
      "66.3 µs ± 996 ns per loop (mean ± std. dev. of 7 runs, 10,000 loops each)\n",
      "Iteration  1    Sample size, n =  100\n",
      "342 µs ± 6.76 µs per loop (mean ± std. dev. of 7 runs, 1,000 loops each)\n",
      "5.87 ms ± 165 µs per loop (mean ± std. dev. of 7 runs, 100 loops each)\n",
      "Iteration  2    Sample size, n =  1000\n",
      "40.8 ms ± 529 µs per loop (mean ± std. dev. of 7 runs, 10 loops each)\n",
      "586 ms ± 8.29 ms per loop (mean ± std. dev. of 7 runs, 1 loop each)\n"
     ]
    }
   ],
   "source": [
    "power=np.arange(1,4) #create a list from 1 to 4\n",
    "n=10**power #multiply 10 to the power of every element of power\n",
    "print(\"n = \",n)\n",
    "n_len=len(n)  \n",
    "timeMinDiff_loops=np.arange(n_len,dtype=\"float\")#Create an array for storing the results, one for each sample\n",
    "timeMinDiff_ufunc=np.arange(n_len,dtype=\"float\")\n",
    "\n",
    "#Loop over each sample size\n",
    "for i in range(n_len): #create a loop to test multiple different powers\n",
    "    print(\"Iteration \",i,\"   Sample size, n = \",n[i])\n",
    "    \n",
    "    a=np.random.random((n[i],2)) #create an array of random values below the size of the value of n from the current iteration\n",
    "        \n",
    "    e=%timeit -o nearestNeighbour_usingUfuncs(a)   \n",
    "    d=%timeit -o nearestNeighbour_withLoops(a) #Time the performance of both of the functions    \n",
    "    \n",
    "    timeMinDiff_loops[i]=d.best #Save the best time for this sample size\n",
    "    timeMinDiff_ufunc[i]=e.best"
   ]
  },
  {
   "cell_type": "code",
   "execution_count": 19,
   "metadata": {},
   "outputs": [
    {
     "data": {
      "text/plain": [
       "<matplotlib.legend.Legend at 0x7fb768a842e0>"
      ]
     },
     "execution_count": 19,
     "metadata": {},
     "output_type": "execute_result"
    },
    {
     "data": {
      "image/png": "[encoded data removed]",
      "text/plain": [
       "<Figure size 432x288 with 1 Axes>"
      ]
     },
     "metadata": {
      "needs_background": "light"
     },
     "output_type": "display_data"
    }
   ],
   "source": [
    "plt.loglog(n,timeMinDiff_loops,label=\"loop\") #plot the two nearest neighbour functions as well as n and n^2 computational efficiency\n",
    "plt.loglog(n,timeMinDiff_ufunc,label=\"ufunc\")\n",
    "plt.loglog(n,n,label=\"O(n)\")\n",
    "plt.loglog(n,n**2,label=\"O(n^2)\")\n",
    "\n",
    "plt.legend()"
   ]
  },
  {
   "cell_type": "markdown",
   "metadata": {},
   "source": [
    "The loop method is much slower than the broadcasting and ufuncs. Broadcasting allows an array to interact with a number or array of a different shape. This decreases the amount of time and computational power used on the function as every element does not have to be individually found and applied."
   ]
  },
  {
   "cell_type": "markdown",
   "metadata": {},
   "source": [
    "# Model Conclusion"
   ]
  },
  {
   "cell_type": "markdown",
   "metadata": {},
   "source": [
    "The rate at which sulfates decay in the stratosphere is exponential. Many of them immediately coelless and drop out of the ash cloud but once they are more spread out it becomes rarer that two particles intercept. "
   ]
  },
  {
   "cell_type": "code",
   "execution_count": null,
   "metadata": {},
   "outputs": [],
   "source": []
  }
 ],
 "metadata": {
  "kernelspec": {
   "display_name": "Python 3 (ipykernel)",
   "language": "python",
   "name": "python3"
  },
  "language_info": {
   "codemirror_mode": {
    "name": "ipython",
    "version": 3
   },
   "file_extension": ".py",
   "mimetype": "text/x-python",
   "name": "python",
   "nbconvert_exporter": "python",
   "pygments_lexer": "ipython3",
   "version": "3.9.12"
  }
 },
 "nbformat": 4,
 "nbformat_minor": 2
}
